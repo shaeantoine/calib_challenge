{
 "cells": [
  {
   "cell_type": "markdown",
   "metadata": {},
   "source": [
    "## Comma AI Calibration Challenge\n",
    "\n",
    "The purpose of this notebook is to investigate how to translate the video files into usable data. I have 5 HEVC video files each 1 minute long. Each video is filmed at 20 frames per second corresponding to 1200 frames per video. The following code block will read in a HEVC file and produce 1200 frames. "
   ]
  },
  {
   "cell_type": "code",
   "execution_count": 2,
   "metadata": {},
   "outputs": [],
   "source": [
    "# Loading the relevant packages\n",
    "import os\n",
    "import cv2"
   ]
  },
  {
   "cell_type": "code",
   "execution_count": 18,
   "metadata": {},
   "outputs": [
    {
     "name": "stdout",
     "output_type": "stream",
     "text": [
      "Extracted 1200 frames to extracted_frames/video_1\n",
      "\n",
      "Extracted 1200 frames to extracted_frames/video_2\n",
      "\n",
      "Extracted 1200 frames to extracted_frames/video_3\n",
      "\n",
      "Extracted 1200 frames to extracted_frames/video_4\n",
      "\n",
      "Extracted 1196 frames to extracted_frames/video_5\n",
      "\n"
     ]
    }
   ],
   "source": [
    "# Function to extract and save frames from a video\n",
    "def extract_frames_from_video(video_path, output_dir, frames_per_video=1200):\n",
    "    # Open the video file\n",
    "    cap = cv2.VideoCapture(video_path)\n",
    "\n",
    "    # Check if video opened successfully\n",
    "    if not cap.isOpened():\n",
    "        print(f\"Error: Could not open video {video_path}\")\n",
    "        return\n",
    "\n",
    "    if not os.path.exists(output_dir):\n",
    "        os.makedirs(output_dir)\n",
    "\n",
    "    # We will manually count frames\n",
    "    frame_count = 0\n",
    "    saved_frame_count = 0\n",
    "    success, frame = cap.read()\n",
    "\n",
    "    # Extract frames manually and stop at 1200\n",
    "    while success and saved_frame_count < frames_per_video:\n",
    "        # Save the frame if we haven't reached 1200 yet\n",
    "        frame_filename = os.path.join(output_dir, f\"frame_{saved_frame_count + 1:04d}.jpg\")\n",
    "        cv2.imwrite(frame_filename, frame)\n",
    "        saved_frame_count += 1\n",
    "\n",
    "        # Read the next frame\n",
    "        success, frame = cap.read()\n",
    "        frame_count += 1\n",
    "\n",
    "    cap.release()\n",
    "    print(f\"Extracted {saved_frame_count} frames to {output_dir}\\n\")\n",
    "\n",
    "# Main script to process multiple videos\n",
    "def process_videos(video_files, output_base_dir, frames_per_video=1200):\n",
    "    for idx, video_file in enumerate(video_files):\n",
    "        video_filename = os.path.basename(video_file).split('.')[0]\n",
    "        output_dir = os.path.join(output_base_dir, f\"video_{idx + 1}\")\n",
    "\n",
    "        extract_frames_from_video(video_file, output_dir, frames_per_video)\n",
    "\n",
    "# Example usage\n",
    "video_files = [\n",
    "    'labeled/0.hevc',  # Replace with the actual paths of your HEVC files\n",
    "    'labeled/1.hevc',\n",
    "    'labeled/2.hevc',\n",
    "    'labeled/3.hevc',\n",
    "    'labeled/4.hevc'\n",
    "]\n",
    "\n",
    "output_base_dir = 'extracted_frames'  # Directory to store extracted frames\n",
    "\n",
    "process_videos(video_files, output_base_dir)\n"
   ]
  }
 ],
 "metadata": {
  "kernelspec": {
   "display_name": "Python 3",
   "language": "python",
   "name": "python3"
  },
  "language_info": {
   "codemirror_mode": {
    "name": "ipython",
    "version": 3
   },
   "file_extension": ".py",
   "mimetype": "text/x-python",
   "name": "python",
   "nbconvert_exporter": "python",
   "pygments_lexer": "ipython3",
   "version": "3.10.14"
  }
 },
 "nbformat": 4,
 "nbformat_minor": 4
}
